{
  "nbformat": 4,
  "nbformat_minor": 0,
  "metadata": {
    "colab": {
      "provenance": []
    },
    "kernelspec": {
      "name": "python3",
      "display_name": "Python 3"
    },
    "language_info": {
      "name": "python"
    }
  },
  "cells": [
    {
      "cell_type": "code",
      "execution_count": 43,
      "metadata": {
        "id": "At9zhdI6U7Jc"
      },
      "outputs": [],
      "source": [
        "!pip install --quiet neo4j langchain-community langchain-core langchain-openai langchain-text-splitters tiktoken wikipedia"
      ]
    },
    {
      "cell_type": "markdown",
      "source": [
        "# Environment Setup"
      ],
      "metadata": {
        "id": "LHzecL6vVPoT"
      }
    },
    {
      "source": [
        "import asyncio\n",
        "import getpass\n",
        "import os\n",
        "from datetime import datetime\n",
        "from hashlib import md5\n",
        "from typing import Dict, List\n",
        "\n",
        "import pandas as pd\n",
        "import seaborn as sns\n",
        "import tiktoken\n",
        "from langchain_community.graphs import Neo4jGraph\n",
        "from langchain_community.tools import WikipediaQueryRun\n",
        "from langchain_community.utilities import WikipediaAPIWrapper\n",
        "from langchain_core.prompts import ChatPromptTemplate\n",
        "from langchain_openai import ChatOpenAI\n",
        "from langchain_text_splitters import TokenTextSplitter\n",
        "from pydantic import BaseModel, Field"
      ],
      "cell_type": "code",
      "metadata": {
        "id": "u7OZURR9dmay"
      },
      "execution_count": 44,
      "outputs": []
    },
    {
      "cell_type": "code",
      "source": [
        "os.environ[\"NEO4J_URI\"] = \"neo4j+s://185f7309.databases.neo4j.io\"\n",
        "os.environ[\"NEO4J_USERNAME\"] = \"neo4j\"\n",
        "os.environ[\"NEO4J_PASSWORD\"] = \"fjjmKRrP0Az5ZRpV9_hzOrhWWrQbqur5jFvAT-zsLCE\"\n",
        "\n",
        "graph = Neo4jGraph(refresh_schema=False)\n",
        "\n",
        "graph.query(\"CREATE CONSTRAINT IF NOT EXISTS FOR (c:Chunk) REQUIRE c.id IS UNIQUE\")\n",
        "graph.query(\"CREATE CONSTRAINT IF NOT EXISTS FOR (c:AtomicFact) REQUIRE c.id IS UNIQUE\")\n",
        "graph.query(\"CREATE CONSTRAINT IF NOT EXISTS FOR (c:KeyElement) REQUIRE c.id IS UNIQUE\")\n",
        "graph.query(\"CREATE CONSTRAINT IF NOT EXISTS FOR (d:Document) REQUIRE d.id IS UNIQUE\")"
      ],
      "metadata": {
        "colab": {
          "base_uri": "https://localhost:8080/"
        },
        "id": "_rpd8z6gVJ7U",
        "outputId": "3d516999-93fe-47b9-fd47-9a56f4a82922"
      },
      "execution_count": 45,
      "outputs": [
        {
          "output_type": "execute_result",
          "data": {
            "text/plain": [
              "[]"
            ]
          },
          "metadata": {},
          "execution_count": 45
        }
      ]
    },
    {
      "cell_type": "code",
      "source": [
        "os.environ[\"OPENAI_API_KEY\"] = getpass.getpass(\"OpenAI API Key:\")\n",
        "print(f\"API Key: {os.environ['OPENAI_API_KEY']}\")"
      ],
      "metadata": {
        "collapsed": true,
        "id": "CztrJ6KjVgF5"
      },
      "execution_count": null,
      "outputs": []
    },
    {
      "cell_type": "code",
      "source": [
        "wikipedia = WikipediaQueryRun(\n",
        "    api_wrapper=WikipediaAPIWrapper(doc_content_chars_max=10000)\n",
        ")\n",
        "text = wikipedia.run(\"Joan of Arc\")"
      ],
      "metadata": {
        "id": "8u13P_Gkabgj"
      },
      "execution_count": 47,
      "outputs": []
    },
    {
      "cell_type": "code",
      "source": [
        "construction_system = \"\"\"\n",
        "You are now an intelligent assistant tasked with meticulously extracting both key elements and\n",
        "atomic facts from a long text.\n",
        "1. Key Elements: The essential nouns (e.g., characters, times, events, places, numbers), verbs (e.g.,\n",
        "actions), and adjectives (e.g., states, feelings) that are pivotal to the text’s narrative.\n",
        "2. Atomic Facts: The smallest, indivisible facts, presented as concise sentences. These include\n",
        "propositions, theories, existences, concepts, and implicit elements like logic, causality, event\n",
        "sequences, interpersonal relationships, timelines, etc.\n",
        "Requirements:\n",
        "#####\n",
        "1. Ensure that all identified key elements are reflected within the corresponding atomic facts.\n",
        "2. You should extract key elements and atomic facts comprehensively, especially those that are\n",
        "important and potentially query-worthy and do not leave out details.\n",
        "3. Whenever applicable, replace pronouns with their specific noun counterparts (e.g., change I, He,\n",
        "She to actual names).\n",
        "4. Ensure that the key elements and atomic facts you extract are presented in the same language as\n",
        "the original text (e.g., English or Chinese).\n",
        "\"\"\"\n",
        "\n",
        "construction_human = \"\"\"Use the given format to extract information from the\n",
        "following input: {input}\"\"\"\n",
        "\n",
        "construction_prompt = ChatPromptTemplate.from_messages(\n",
        "    [\n",
        "        (\n",
        "            \"system\",\n",
        "            construction_system,\n",
        "        ),\n",
        "        (\n",
        "            \"human\",\n",
        "            (\n",
        "                \"Use the given format to extract information from the \"\n",
        "                \"following input: {input}\"\n",
        "            ),\n",
        "        ),\n",
        "    ]\n",
        ")"
      ],
      "metadata": {
        "id": "MPQm7QS4alFz"
      },
      "execution_count": 48,
      "outputs": []
    },
    {
      "cell_type": "code",
      "source": [
        "class AtomicFact(BaseModel):\n",
        "    key_elements: List[str] = Field(description=\"\"\"The essential nouns (e.g., characters, times, events, places, numbers), verbs (e.g.,\n",
        "actions), and adjectives (e.g., states, feelings) that are pivotal to the atomic fact's narrative.\"\"\")\n",
        "    atomic_fact: str = Field(description=\"\"\"The smallest, indivisible facts, presented as concise sentences. These include\n",
        "propositions, theories, existences, concepts, and implicit elements like logic, causality, event\n",
        "sequences, interpersonal relationships, timelines, etc.\"\"\")\n",
        "\n",
        "class Extraction(BaseModel):\n",
        "    atomic_facts: List[AtomicFact] = Field(description=\"List of atomic facts\")"
      ],
      "metadata": {
        "id": "j530_3ttayyL"
      },
      "execution_count": 49,
      "outputs": []
    },
    {
      "cell_type": "code",
      "source": [
        "model = ChatOpenAI(model=\"gpt-4o-mini\", temperature=0.1)\n",
        "structured_llm = model.with_structured_output(Extraction)\n",
        "embeddings = OpenAIEmbeddings(model=\"text-embedding-3-small\")\n",
        "construction_chain = construction_prompt | structured_llm"
      ],
      "metadata": {
        "id": "Emq9LPL_a4HG"
      },
      "execution_count": 50,
      "outputs": []
    },
    {
      "cell_type": "code",
      "source": [
        "import_query = \"\"\"\n",
        "MERGE (d:Document {id:$document_name})\n",
        "WITH d\n",
        "UNWIND $data AS row\n",
        "MERGE (c:Chunk {id: row.chunk_id})\n",
        "SET c.text = row.chunk_text,\n",
        "    c.index = row.index,\n",
        "    c.document_name = row.document_name\n",
        "MERGE (d)-[:HAS_CHUNK]->(c)\n",
        "WITH c, row\n",
        "UNWIND row.atomic_facts AS af\n",
        "MERGE (a:AtomicFact {id: af.id})\n",
        "SET a.text = af.atomic_fact\n",
        "MERGE (c)-[:HAS_ATOMIC_FACT]->(a)\n",
        "WITH c, a, af\n",
        "UNWIND af.key_elements AS ke\n",
        "MERGE (k:KeyElement {id: ke})\n",
        "MERGE (a)-[:HAS_KEY_ELEMENT]->(k)\n",
        "\"\"\"\n",
        "\n",
        "def encode_md5(text):\n",
        "    return md5(text.encode(\"utf-8\")).hexdigest()"
      ],
      "metadata": {
        "id": "RHZdkgNXglzW"
      },
      "execution_count": 51,
      "outputs": []
    },
    {
      "cell_type": "code",
      "source": [
        "# Paper used 2k token size\n",
        "async def process_document(text, document_name, chunk_size=2000, chunk_overlap=200):\n",
        "    start = datetime.now()\n",
        "    print(f\"Started extraction at: {start}\")\n",
        "    text_splitter = TokenTextSplitter(chunk_size=chunk_size, chunk_overlap=chunk_overlap)\n",
        "    texts = text_splitter.split_text(text)\n",
        "    print(f\"Total text chunks: {len(texts)}\")\n",
        "    tasks = [\n",
        "        asyncio.create_task(construction_chain.ainvoke({\"input\":chunk_text}))\n",
        "        for index, chunk_text in enumerate(texts)\n",
        "    ]\n",
        "    results = await asyncio.gather(*tasks)\n",
        "    print(f\"Finished LLM extraction after: {datetime.now() - start}\")\n",
        "    docs = [el.dict() for el in results]\n",
        "    for index, doc in enumerate(docs):\n",
        "        doc['chunk_id'] = encode_md5(texts[index])\n",
        "        doc['chunk_text'] = texts[index]\n",
        "        doc['index'] = index\n",
        "        for af in doc[\"atomic_facts\"]:\n",
        "            af[\"id\"] = encode_md5(af[\"atomic_fact\"])\n",
        "    # Import chunks/atomic facts/key elements\n",
        "    graph.query(import_query,\n",
        "            params={\"data\": docs, \"document_name\": document_name})\n",
        "    # Create next relationships between chunks\n",
        "    graph.query(\"\"\"MATCH (c:Chunk)<-[:HAS_CHUNK]-(d:Document)\n",
        "WHERE d.id = $document_name\n",
        "WITH c ORDER BY c.index WITH collect(c) AS nodes\n",
        "UNWIND range(0, size(nodes) -2) AS index\n",
        "WITH nodes[index] AS start, nodes[index + 1] AS end\n",
        "MERGE (start)-[:NEXT]->(end)\n",
        "\"\"\",\n",
        "           params={\"document_name\":document_name})\n",
        "    print(f\"Finished import at: {datetime.now() - start}\")"
      ],
      "metadata": {
        "id": "Z3mmtfBgku15"
      },
      "execution_count": 52,
      "outputs": []
    },
    {
      "cell_type": "code",
      "source": [
        "await process_document(text, \"Joan of Arc\", chunk_size=500, chunk_overlap=100)"
      ],
      "metadata": {
        "colab": {
          "base_uri": "https://localhost:8080/"
        },
        "id": "-vzmP1C2kyvD",
        "outputId": "be04fa88-877c-4c57-fe70-c4c9eb805041"
      },
      "execution_count": 53,
      "outputs": [
        {
          "output_type": "stream",
          "name": "stdout",
          "text": [
            "Started extraction at: 2025-02-04 19:38:35.812676\n",
            "Total text chunks: 4\n",
            "Finished LLM extraction after: 0:00:29.514589\n"
          ]
        },
        {
          "output_type": "stream",
          "name": "stderr",
          "text": [
            "<ipython-input-52-e9bf716774e8>:14: PydanticDeprecatedSince20: The `dict` method is deprecated; use `model_dump` instead. Deprecated in Pydantic V2.0 to be removed in V3.0. See Pydantic V2 Migration Guide at https://errors.pydantic.dev/2.10/migration/\n",
            "  docs = [el.dict() for el in results]\n"
          ]
        },
        {
          "output_type": "stream",
          "name": "stdout",
          "text": [
            "Finished import at: 0:00:30.645012\n"
          ]
        }
      ]
    },
    {
      "cell_type": "code",
      "source": [
        "def num_tokens_from_string(string: str) -> int:\n",
        "    \"\"\"Returns the number of tokens in a text string.\"\"\"\n",
        "    encoding = tiktoken.encoding_for_model(\"gpt-4\")\n",
        "    num_tokens = len(encoding.encode(string))\n",
        "    return num_tokens\n",
        "\n",
        "\n",
        "atomic_facts = graph.query(\"MATCH (a:AtomicFact) RETURN a.text AS text\")\n",
        "df = pd.DataFrame.from_records(\n",
        "    [{\"tokens\": num_tokens_from_string(el[\"text\"])} for el in atomic_facts]\n",
        ")\n",
        "\n",
        "sns.histplot(df[\"tokens\"])"
      ],
      "metadata": {
        "colab": {
          "base_uri": "https://localhost:8080/",
          "height": 467
        },
        "id": "1t79rCJxk1wb",
        "outputId": "e81b55f1-e77c-42a9-e837-411babfcb534"
      },
      "execution_count": 54,
      "outputs": [
        {
          "output_type": "execute_result",
          "data": {
            "text/plain": [
              "<Axes: xlabel='tokens', ylabel='Count'>"
            ]
          },
          "metadata": {},
          "execution_count": 54
        },
        {
          "output_type": "display_data",
          "data": {
            "text/plain": [
              "<Figure size 640x480 with 1 Axes>"
            ],
            "image/png": "[encoded data removed]"
          },
          "metadata": {}
        }
      ]
    },
    {
      "cell_type": "code",
      "source": [
        "graph.query(\"\"\"MATCH (a:AtomicFact)\n",
        "RETURN a.text AS text\n",
        "ORDER BY size(text) ASC LIMIT 3\n",
        "UNION ALL\n",
        "MATCH (a:AtomicFact)\n",
        "RETURN a.text AS text\n",
        "ORDER BY size(text) DESC LIMIT 3\"\"\")"
      ],
      "metadata": {
        "colab": {
          "base_uri": "https://localhost:8080/"
        },
        "id": "THgnPwgdnCr-",
        "outputId": "4d5531e8-1913-4652-c443-1a4ad92f7e60"
      },
      "execution_count": 55,
      "outputs": [
        {
          "output_type": "execute_result",
          "data": {
            "text/plain": [
              "[{'text': 'The film is known for its cinematography and use of close-ups.'},\n",
              " {'text': 'The original score of The Messenger was composed by Éric Serra.'},\n",
              " {'text': 'Dreyer cast stage actress Falconetti as Joan in her only major film role.'},\n",
              " {'text': \"Compiègne was besieged by the Burgundians, who were French allies of the English. Joan of Arc was captured by Burgundian troops on 23 May. After trying unsuccessfully to escape, Joan was handed to the English in November. Joan was put on trial by Bishop Pierre Cauchon on accusations of heresy, which included blaspheming by wearing men's clothes, acting upon visions that were demonic, and refusing to submit her words and deeds to the judgment of the church. Joan was declared guilty and burned at the stake on 30 May 1431, aged about nineteen. In 1456, an inquisitorial court reinvestigated Joan's trial and overturned the verdict, declaring that it was tainted by deceit and procedural errors. Joan has been described as an obedient daughter of the Roman Catholic Church, an early feminist, and a symbol of freedom and independence. Joan is popularly revered as a martyr. After the French Revolution, Joan became a national symbol of France. In 1920, Joan of Arc was canonized by Pope Benedict XV and, two years later, was declared one of the patron saints of France. Joan is portrayed in numerous cultural works, including literature, music, paintings, sculptures, and theater.\"},\n",
              " {'text': \"Compiègne was besieged by the Burgundians, who were French allies of the English. Joan was captured by Burgundian troops on 23 May. After trying unsuccessfully to escape, Joan was handed to the English in November. Joan was put on trial by Bishop Pierre Cauchon on accusations of heresy, which included blaspheming by wearing men's clothes, acting upon visions that were demonic, and refusing to submit her words and deeds to the judgment of the church. Joan was declared guilty and burned at the stake on 30 May 1431, aged about nineteen. In 1456, an inquisitorial court reinvestigated Joan's trial and overturned the verdict, declaring that it was tainted by deceit and procedural errors. Joan has been described as an obedient daughter of the Roman Catholic Church, an early feminist, and a symbol of freedom and independence. Joan is popularly revered as a martyr. After the French Revolution, Joan became a national symbol of France. In 1920, Joan of Arc was canonized by Pope Benedict XV and, two years later, was declared one of the patron saints of France. Joan is portrayed in numerous cultural works, including literature, music, paintings, sculptures, and theater.\"},\n",
              " {'text': \"Compiègne was besieged by the Burgundians, who were French allies of the English. Joan was captured by Burgundian troops on 23 May. After unsuccessfully trying to escape, Joan was handed to the English in November. Joan was put on trial by Bishop Pierre Cauchon on accusations of heresy, which included blaspheming by wearing men's clothes, acting upon demonic visions, and refusing to submit her words and deeds to the judgment of the church. Joan was declared guilty and burned at the stake on 30 May 1431, at the age of about nineteen. In 1456, an inquisitorial court reinvestigated Joan's trial and overturned the verdict, declaring it tainted by deceit and procedural errors. Joan has been described as an obedient daughter of the Roman Catholic Church, an early feminist, and a symbol of freedom and independence. Joan is popularly revered as a martyr. After the French Revolution, Joan became a national symbol of France. In 1920, Joan of Arc was canonized by Pope Benedict XV and, two years later, was declared one of the patron saints of France. Joan is portrayed in numerous cultural works, including literature, music, paintings, sculptures, and theater.\"}]"
            ]
          },
          "metadata": {},
          "execution_count": 55
        }
      ]
    },
    {
      "cell_type": "code",
      "source": [
        "data = graph.query(\"\"\"\n",
        "MATCH (a:KeyElement)\n",
        "RETURN a.id AS key,\n",
        "       count{(a)<-[:HAS_KEY_ELEMENT]-()} AS connections\n",
        "ORDER BY connections DESC LIMIT 5\"\"\")\n",
        "df = pd.DataFrame.from_records(data)\n",
        "sns.barplot(df, x='key', y='connections')"
      ],
      "metadata": {
        "colab": {
          "base_uri": "https://localhost:8080/",
          "height": 467
        },
        "id": "JN_VAAo1nKHT",
        "outputId": "0416c0a6-b539-4904-84a3-78aa356e9780"
      },
      "execution_count": 56,
      "outputs": [
        {
          "output_type": "execute_result",
          "data": {
            "text/plain": [
              "<Axes: xlabel='key', ylabel='connections'>"
            ]
          },
          "metadata": {},
          "execution_count": 56
        },
        {
          "output_type": "display_data",
          "data": {
            "text/plain": [
              "<Figure size 640x480 with 1 Axes>"
            ],
            "image/png": "[encoded data removed]"
          },
          "metadata": {}
        }
      ]
    },
    {
      "cell_type": "code",
      "source": [],
      "metadata": {
        "id": "emu14R9eZqPo"
      },
      "execution_count": 56,
      "outputs": []
    }
  ]
}